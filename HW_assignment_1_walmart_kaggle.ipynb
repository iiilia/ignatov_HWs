{
 "cells": [
  {
   "cell_type": "code",
   "execution_count": null,
   "metadata": {
    "collapsed": true
   },
   "outputs": [],
   "source": [
    "def conf(true, pred):\n",
    "    df = pd.DataFrame()\n",
    "    df['true'] = true\n",
    "    df['pred'] = pred\n",
    "    df['1'] = 1\n",
    "    return df.pivot(index = 'true',)"
   ]
  },
  {
   "cell_type": "code",
   "execution_count": 40,
   "metadata": {
    "collapsed": true
   },
   "outputs": [],
   "source": [
    "df = pd.DataFrame()"
   ]
  },
  {
   "cell_type": "code",
   "execution_count": 41,
   "metadata": {
    "collapsed": true
   },
   "outputs": [],
   "source": [
    "df['1']  = [1,2,3,4,1,2,3,4]\n",
    "df['2']  = [1,1,2,2,3,3,4,4]\n",
    "df['3']  = [1,1,1,1,1,1,1,1]"
   ]
  },
  {
   "cell_type": "code",
   "execution_count": 42,
   "metadata": {
    "collapsed": false
   },
   "outputs": [
    {
     "data": {
      "text/html": [
       "<div>\n",
       "<table border=\"1\" class=\"dataframe\">\n",
       "  <thead>\n",
       "    <tr style=\"text-align: right;\">\n",
       "      <th>2</th>\n",
       "      <th>1</th>\n",
       "      <th>2</th>\n",
       "      <th>3</th>\n",
       "      <th>4</th>\n",
       "    </tr>\n",
       "    <tr>\n",
       "      <th>1</th>\n",
       "      <th></th>\n",
       "      <th></th>\n",
       "      <th></th>\n",
       "      <th></th>\n",
       "    </tr>\n",
       "  </thead>\n",
       "  <tbody>\n",
       "    <tr>\n",
       "      <th>1</th>\n",
       "      <td>1</td>\n",
       "      <td>NaN</td>\n",
       "      <td>1</td>\n",
       "      <td>NaN</td>\n",
       "    </tr>\n",
       "    <tr>\n",
       "      <th>2</th>\n",
       "      <td>1</td>\n",
       "      <td>NaN</td>\n",
       "      <td>1</td>\n",
       "      <td>NaN</td>\n",
       "    </tr>\n",
       "    <tr>\n",
       "      <th>3</th>\n",
       "      <td>NaN</td>\n",
       "      <td>1</td>\n",
       "      <td>NaN</td>\n",
       "      <td>1</td>\n",
       "    </tr>\n",
       "    <tr>\n",
       "      <th>4</th>\n",
       "      <td>NaN</td>\n",
       "      <td>1</td>\n",
       "      <td>NaN</td>\n",
       "      <td>1</td>\n",
       "    </tr>\n",
       "  </tbody>\n",
       "</table>\n",
       "</div>"
      ],
      "text/plain": [
       "2   1   2   3   4\n",
       "1                \n",
       "1   1 NaN   1 NaN\n",
       "2   1 NaN   1 NaN\n",
       "3 NaN   1 NaN   1\n",
       "4 NaN   1 NaN   1"
      ]
     },
     "execution_count": 42,
     "metadata": {},
     "output_type": "execute_result"
    }
   ],
   "source": [
    "df.pivot(index = '1', columns = '2', values='3')"
   ]
  },
  {
   "cell_type": "markdown",
   "metadata": {},
   "source": [
    "## Homework 1\n",
    "\n",
    "Author: Dmitry Petrov, teaching assistant (use to.dmitry.petrov@gmail.com for questions)\n",
    "\n",
    "Prerequisites: sklearn, pandas, numpy, scipy, ipython/jupyter, xgboost, matplotlib/seaborn libraries for python.\n",
    "\n",
    "Your report (as ipython-notebook preferebaly) should be prepared by June 17.\n",
    "\n",
    "The letter with the report should be sent to these emails: to.dmitry.petrov@gmail.com, dmitrii.ignatov@gmail.com, and ivannnnz@gmail.com. The topic of the letter must have the following format [CS-ML2016m-HW1]-LAST NAME-FIRST NAME.\n",
    "\n",
    "Max mark is 10.\n"
   ]
  },
  {
   "cell_type": "markdown",
   "metadata": {},
   "source": [
    "### 0. Data aquisition\n",
    "\n",
    "Get the training data from 'Walmart Recruiting: Trip Type Classification' competition:\n",
    "https://www.kaggle.com/c/walmart-recruiting-trip-type-classification/data\n",
    "\n",
    "Note 1: you can also pass this assignment if you will provide notebook with 0.55 log loss or better result on 10-fold cross-validation. \n",
    "\n",
    "Note 2: if this competition is your project, consider this assignment as first steps in it. \n",
    "\n"
   ]
  },
  {
   "cell_type": "code",
   "execution_count": 1,
   "metadata": {
    "collapsed": true
   },
   "outputs": [],
   "source": [
    "import networkx as nx\n",
    "import pandas as pd\n",
    "import numpy as np\n",
    "import matplotlib\n",
    "import matplotlib.pyplot as plt\n",
    "import pickle as pkl\n",
    "%matplotlib inline\n",
    "from tqdm import tqdm"
   ]
  },
  {
   "cell_type": "code",
   "execution_count": 2,
   "metadata": {
    "collapsed": false
   },
   "outputs": [],
   "source": [
    "train = pd.read_csv('./hw1/train.csv')"
   ]
  },
  {
   "cell_type": "code",
   "execution_count": 3,
   "metadata": {
    "collapsed": false
   },
   "outputs": [],
   "source": [
    "ss = pd.read_csv('./hw1/sample_submission.csv')"
   ]
  },
  {
   "cell_type": "code",
   "execution_count": 4,
   "metadata": {
    "collapsed": false
   },
   "outputs": [
    {
     "data": {
      "text/html": [
       "<div>\n",
       "<table border=\"1\" class=\"dataframe\">\n",
       "  <thead>\n",
       "    <tr style=\"text-align: right;\">\n",
       "      <th></th>\n",
       "      <th>TripType</th>\n",
       "      <th>VisitNumber</th>\n",
       "      <th>Weekday</th>\n",
       "      <th>Upc</th>\n",
       "      <th>ScanCount</th>\n",
       "      <th>DepartmentDescription</th>\n",
       "      <th>FinelineNumber</th>\n",
       "    </tr>\n",
       "  </thead>\n",
       "  <tbody>\n",
       "    <tr>\n",
       "      <th>0</th>\n",
       "      <td>999</td>\n",
       "      <td>5</td>\n",
       "      <td>Friday</td>\n",
       "      <td>68113152929</td>\n",
       "      <td>-1</td>\n",
       "      <td>FINANCIAL SERVICES</td>\n",
       "      <td>1000</td>\n",
       "    </tr>\n",
       "    <tr>\n",
       "      <th>1</th>\n",
       "      <td>30</td>\n",
       "      <td>7</td>\n",
       "      <td>Friday</td>\n",
       "      <td>60538815980</td>\n",
       "      <td>1</td>\n",
       "      <td>SHOES</td>\n",
       "      <td>8931</td>\n",
       "    </tr>\n",
       "    <tr>\n",
       "      <th>2</th>\n",
       "      <td>30</td>\n",
       "      <td>7</td>\n",
       "      <td>Friday</td>\n",
       "      <td>7410811099</td>\n",
       "      <td>1</td>\n",
       "      <td>PERSONAL CARE</td>\n",
       "      <td>4504</td>\n",
       "    </tr>\n",
       "    <tr>\n",
       "      <th>3</th>\n",
       "      <td>26</td>\n",
       "      <td>8</td>\n",
       "      <td>Friday</td>\n",
       "      <td>2238403510</td>\n",
       "      <td>2</td>\n",
       "      <td>PAINT AND ACCESSORIES</td>\n",
       "      <td>3565</td>\n",
       "    </tr>\n",
       "    <tr>\n",
       "      <th>4</th>\n",
       "      <td>26</td>\n",
       "      <td>8</td>\n",
       "      <td>Friday</td>\n",
       "      <td>2006613744</td>\n",
       "      <td>2</td>\n",
       "      <td>PAINT AND ACCESSORIES</td>\n",
       "      <td>1017</td>\n",
       "    </tr>\n",
       "  </tbody>\n",
       "</table>\n",
       "</div>"
      ],
      "text/plain": [
       "   TripType  VisitNumber Weekday          Upc  ScanCount  \\\n",
       "0       999            5  Friday  68113152929         -1   \n",
       "1        30            7  Friday  60538815980          1   \n",
       "2        30            7  Friday   7410811099          1   \n",
       "3        26            8  Friday   2238403510          2   \n",
       "4        26            8  Friday   2006613744          2   \n",
       "\n",
       "   DepartmentDescription  FinelineNumber  \n",
       "0     FINANCIAL SERVICES            1000  \n",
       "1                  SHOES            8931  \n",
       "2          PERSONAL CARE            4504  \n",
       "3  PAINT AND ACCESSORIES            3565  \n",
       "4  PAINT AND ACCESSORIES            1017  "
      ]
     },
     "execution_count": 4,
     "metadata": {},
     "output_type": "execute_result"
    }
   ],
   "source": [
    "train.head()"
   ]
  },
  {
   "cell_type": "code",
   "execution_count": 5,
   "metadata": {
    "collapsed": false
   },
   "outputs": [
    {
     "data": {
      "text/html": [
       "<div>\n",
       "<table border=\"1\" class=\"dataframe\">\n",
       "  <thead>\n",
       "    <tr style=\"text-align: right;\">\n",
       "      <th></th>\n",
       "      <th>VisitNumber</th>\n",
       "      <th>TripType_3</th>\n",
       "      <th>TripType_4</th>\n",
       "      <th>TripType_5</th>\n",
       "      <th>TripType_6</th>\n",
       "      <th>TripType_7</th>\n",
       "      <th>TripType_8</th>\n",
       "      <th>TripType_9</th>\n",
       "      <th>TripType_12</th>\n",
       "      <th>TripType_14</th>\n",
       "      <th>...</th>\n",
       "      <th>TripType_36</th>\n",
       "      <th>TripType_37</th>\n",
       "      <th>TripType_38</th>\n",
       "      <th>TripType_39</th>\n",
       "      <th>TripType_40</th>\n",
       "      <th>TripType_41</th>\n",
       "      <th>TripType_42</th>\n",
       "      <th>TripType_43</th>\n",
       "      <th>TripType_44</th>\n",
       "      <th>TripType_999</th>\n",
       "    </tr>\n",
       "  </thead>\n",
       "  <tbody>\n",
       "    <tr>\n",
       "      <th>0</th>\n",
       "      <td>1</td>\n",
       "      <td>0</td>\n",
       "      <td>0</td>\n",
       "      <td>0</td>\n",
       "      <td>0</td>\n",
       "      <td>0</td>\n",
       "      <td>0</td>\n",
       "      <td>0</td>\n",
       "      <td>0</td>\n",
       "      <td>0</td>\n",
       "      <td>...</td>\n",
       "      <td>0</td>\n",
       "      <td>0</td>\n",
       "      <td>0</td>\n",
       "      <td>0</td>\n",
       "      <td>0</td>\n",
       "      <td>0</td>\n",
       "      <td>0</td>\n",
       "      <td>0</td>\n",
       "      <td>0</td>\n",
       "      <td>0</td>\n",
       "    </tr>\n",
       "    <tr>\n",
       "      <th>1</th>\n",
       "      <td>2</td>\n",
       "      <td>0</td>\n",
       "      <td>0</td>\n",
       "      <td>0</td>\n",
       "      <td>0</td>\n",
       "      <td>0</td>\n",
       "      <td>0</td>\n",
       "      <td>0</td>\n",
       "      <td>0</td>\n",
       "      <td>0</td>\n",
       "      <td>...</td>\n",
       "      <td>0</td>\n",
       "      <td>0</td>\n",
       "      <td>0</td>\n",
       "      <td>0</td>\n",
       "      <td>0</td>\n",
       "      <td>0</td>\n",
       "      <td>0</td>\n",
       "      <td>0</td>\n",
       "      <td>0</td>\n",
       "      <td>0</td>\n",
       "    </tr>\n",
       "    <tr>\n",
       "      <th>2</th>\n",
       "      <td>3</td>\n",
       "      <td>0</td>\n",
       "      <td>0</td>\n",
       "      <td>0</td>\n",
       "      <td>0</td>\n",
       "      <td>0</td>\n",
       "      <td>0</td>\n",
       "      <td>0</td>\n",
       "      <td>0</td>\n",
       "      <td>0</td>\n",
       "      <td>...</td>\n",
       "      <td>0</td>\n",
       "      <td>0</td>\n",
       "      <td>0</td>\n",
       "      <td>0</td>\n",
       "      <td>0</td>\n",
       "      <td>0</td>\n",
       "      <td>0</td>\n",
       "      <td>0</td>\n",
       "      <td>0</td>\n",
       "      <td>0</td>\n",
       "    </tr>\n",
       "    <tr>\n",
       "      <th>3</th>\n",
       "      <td>4</td>\n",
       "      <td>0</td>\n",
       "      <td>0</td>\n",
       "      <td>0</td>\n",
       "      <td>0</td>\n",
       "      <td>0</td>\n",
       "      <td>0</td>\n",
       "      <td>0</td>\n",
       "      <td>0</td>\n",
       "      <td>0</td>\n",
       "      <td>...</td>\n",
       "      <td>0</td>\n",
       "      <td>0</td>\n",
       "      <td>0</td>\n",
       "      <td>0</td>\n",
       "      <td>0</td>\n",
       "      <td>0</td>\n",
       "      <td>0</td>\n",
       "      <td>0</td>\n",
       "      <td>0</td>\n",
       "      <td>0</td>\n",
       "    </tr>\n",
       "    <tr>\n",
       "      <th>4</th>\n",
       "      <td>6</td>\n",
       "      <td>0</td>\n",
       "      <td>0</td>\n",
       "      <td>0</td>\n",
       "      <td>0</td>\n",
       "      <td>0</td>\n",
       "      <td>0</td>\n",
       "      <td>0</td>\n",
       "      <td>0</td>\n",
       "      <td>0</td>\n",
       "      <td>...</td>\n",
       "      <td>0</td>\n",
       "      <td>0</td>\n",
       "      <td>0</td>\n",
       "      <td>0</td>\n",
       "      <td>0</td>\n",
       "      <td>0</td>\n",
       "      <td>0</td>\n",
       "      <td>0</td>\n",
       "      <td>0</td>\n",
       "      <td>0</td>\n",
       "    </tr>\n",
       "  </tbody>\n",
       "</table>\n",
       "<p>5 rows × 39 columns</p>\n",
       "</div>"
      ],
      "text/plain": [
       "   VisitNumber  TripType_3  TripType_4  TripType_5  TripType_6  TripType_7  \\\n",
       "0            1           0           0           0           0           0   \n",
       "1            2           0           0           0           0           0   \n",
       "2            3           0           0           0           0           0   \n",
       "3            4           0           0           0           0           0   \n",
       "4            6           0           0           0           0           0   \n",
       "\n",
       "   TripType_8  TripType_9  TripType_12  TripType_14      ...       \\\n",
       "0           0           0            0            0      ...        \n",
       "1           0           0            0            0      ...        \n",
       "2           0           0            0            0      ...        \n",
       "3           0           0            0            0      ...        \n",
       "4           0           0            0            0      ...        \n",
       "\n",
       "   TripType_36  TripType_37  TripType_38  TripType_39  TripType_40  \\\n",
       "0            0            0            0            0            0   \n",
       "1            0            0            0            0            0   \n",
       "2            0            0            0            0            0   \n",
       "3            0            0            0            0            0   \n",
       "4            0            0            0            0            0   \n",
       "\n",
       "   TripType_41  TripType_42  TripType_43  TripType_44  TripType_999  \n",
       "0            0            0            0            0             0  \n",
       "1            0            0            0            0             0  \n",
       "2            0            0            0            0             0  \n",
       "3            0            0            0            0             0  \n",
       "4            0            0            0            0             0  \n",
       "\n",
       "[5 rows x 39 columns]"
      ]
     },
     "execution_count": 5,
     "metadata": {},
     "output_type": "execute_result"
    }
   ],
   "source": [
    "ss.head()"
   ]
  },
  {
   "cell_type": "markdown",
   "metadata": {},
   "source": [
    "### 1. Preliminary analysis"
   ]
  },
  {
   "cell_type": "markdown",
   "metadata": {},
   "source": [
    "Give summary of train features. \n",
    "\n",
    "— Which of them are numerical and categorical? \n",
    "\n",
    "— What distributions do they have? Are distributions identical on test and train? \n",
    "\n",
    "— What features contain missing values? What's your guess why?\n",
    "\n",
    "Note: Pandas library can be very handy."
   ]
  },
  {
   "cell_type": "code",
   "execution_count": 6,
   "metadata": {
    "collapsed": false
   },
   "outputs": [
    {
     "data": {
      "text/plain": [
       "Index(['TripType', 'VisitNumber', 'Weekday', 'Upc', 'ScanCount',\n",
       "       'DepartmentDescription', 'FinelineNumber'],\n",
       "      dtype='object')"
      ]
     },
     "execution_count": 6,
     "metadata": {},
     "output_type": "execute_result"
    }
   ],
   "source": [
    "train.columns"
   ]
  },
  {
   "cell_type": "markdown",
   "metadata": {},
   "source": [
    "### 2. Data preprocessing and feature engineering"
   ]
  },
  {
   "cell_type": "markdown",
   "metadata": {},
   "source": [
    "— Missing values. How do you choose to impute them? Why?\n",
    "\n",
    "— String variables. Implement label and one-hot encoding. For what models it makes a difference? (Note: it may be better to use Pandas get_dummies method to one-hot encoder in sklearn).\n",
    "\n",
    "— Combine observations by VisitNumber (Pandas groupby method can be very handy in that case). Make feature vector for each VisitNumber.  \n",
    "\n",
    "— Split training data into even new_train and evaluation sets using train_test_split from sklearn. Fix random state for reproducibility of your results. \n",
    "\n",
    "— Choose cross-validation 5-fold split for your data (3-fold if your PC is not so fast). Do not forget to specify random state for your results reproducibility. "
   ]
  },
  {
   "cell_type": "markdown",
   "metadata": {},
   "source": [
    "### 3. KNN-classifier"
   ]
  },
  {
   "cell_type": "markdown",
   "metadata": {},
   "source": [
    "— Try KNN classifier on the obtained features. Report accuracy and logarithmic loss (mean and std across the folds). How does this evaluation metrics change depending on neighbors number? Depending on distance metric? \n",
    "\n",
    "— Show normalized confusion matrix for the best obtained model performance on the evaluation set. How does it differ from cross-validation score?"
   ]
  },
  {
   "cell_type": "code",
   "execution_count": 13,
   "metadata": {
    "collapsed": true
   },
   "outputs": [],
   "source": [
    "from sklearn.neighbors import KNeighborsClassifier as KNN"
   ]
  },
  {
   "cell_type": "code",
   "execution_count": 14,
   "metadata": {
    "collapsed": true
   },
   "outputs": [],
   "source": [
    "import sklearn.cross_validation  as cv"
   ]
  },
  {
   "cell_type": "code",
   "execution_count": 18,
   "metadata": {
    "collapsed": false
   },
   "outputs": [],
   "source": [
    "cv_10 = cv.KFold(n = train.shape[0], n_folds = 10, shuffle = True, random_state = 42)"
   ]
  },
  {
   "cell_type": "code",
   "execution_count": 20,
   "metadata": {
    "collapsed": false
   },
   "outputs": [
    {
     "name": "stdout",
     "output_type": "stream",
     "text": [
      "38\n",
      "38\n",
      "38\n",
      "38\n",
      "38\n",
      "38\n",
      "38\n",
      "38\n",
      "38\n",
      "38\n"
     ]
    }
   ],
   "source": [
    "for i in cv_10:\n",
    "    print(train.loc[i[0],'TripType'].nunique())"
   ]
  },
  {
   "cell_type": "code",
   "execution_count": 21,
   "metadata": {
    "collapsed": true
   },
   "outputs": [],
   "source": [
    "from sklearn.metrics import log_loss"
   ]
  },
  {
   "cell_type": "code",
   "execution_count": 22,
   "metadata": {
    "collapsed": false
   },
   "outputs": [
    {
     "data": {
      "text/html": [
       "<div>\n",
       "<table border=\"1\" class=\"dataframe\">\n",
       "  <thead>\n",
       "    <tr style=\"text-align: right;\">\n",
       "      <th></th>\n",
       "      <th>TripType</th>\n",
       "      <th>VisitNumber</th>\n",
       "      <th>Weekday</th>\n",
       "      <th>Upc</th>\n",
       "      <th>ScanCount</th>\n",
       "      <th>DepartmentDescription</th>\n",
       "      <th>FinelineNumber</th>\n",
       "    </tr>\n",
       "  </thead>\n",
       "  <tbody>\n",
       "    <tr>\n",
       "      <th>0</th>\n",
       "      <td>999</td>\n",
       "      <td>5</td>\n",
       "      <td>Friday</td>\n",
       "      <td>68113152929</td>\n",
       "      <td>-1</td>\n",
       "      <td>FINANCIAL SERVICES</td>\n",
       "      <td>1000</td>\n",
       "    </tr>\n",
       "    <tr>\n",
       "      <th>1</th>\n",
       "      <td>30</td>\n",
       "      <td>7</td>\n",
       "      <td>Friday</td>\n",
       "      <td>60538815980</td>\n",
       "      <td>1</td>\n",
       "      <td>SHOES</td>\n",
       "      <td>8931</td>\n",
       "    </tr>\n",
       "    <tr>\n",
       "      <th>2</th>\n",
       "      <td>30</td>\n",
       "      <td>7</td>\n",
       "      <td>Friday</td>\n",
       "      <td>7410811099</td>\n",
       "      <td>1</td>\n",
       "      <td>PERSONAL CARE</td>\n",
       "      <td>4504</td>\n",
       "    </tr>\n",
       "    <tr>\n",
       "      <th>3</th>\n",
       "      <td>26</td>\n",
       "      <td>8</td>\n",
       "      <td>Friday</td>\n",
       "      <td>2238403510</td>\n",
       "      <td>2</td>\n",
       "      <td>PAINT AND ACCESSORIES</td>\n",
       "      <td>3565</td>\n",
       "    </tr>\n",
       "    <tr>\n",
       "      <th>4</th>\n",
       "      <td>26</td>\n",
       "      <td>8</td>\n",
       "      <td>Friday</td>\n",
       "      <td>2006613744</td>\n",
       "      <td>2</td>\n",
       "      <td>PAINT AND ACCESSORIES</td>\n",
       "      <td>1017</td>\n",
       "    </tr>\n",
       "  </tbody>\n",
       "</table>\n",
       "</div>"
      ],
      "text/plain": [
       "   TripType  VisitNumber Weekday          Upc  ScanCount  \\\n",
       "0       999            5  Friday  68113152929         -1   \n",
       "1        30            7  Friday  60538815980          1   \n",
       "2        30            7  Friday   7410811099          1   \n",
       "3        26            8  Friday   2238403510          2   \n",
       "4        26            8  Friday   2006613744          2   \n",
       "\n",
       "   DepartmentDescription  FinelineNumber  \n",
       "0     FINANCIAL SERVICES            1000  \n",
       "1                  SHOES            8931  \n",
       "2          PERSONAL CARE            4504  \n",
       "3  PAINT AND ACCESSORIES            3565  \n",
       "4  PAINT AND ACCESSORIES            1017  "
      ]
     },
     "execution_count": 22,
     "metadata": {},
     "output_type": "execute_result"
    }
   ],
   "source": [
    "train.head()"
   ]
  },
  {
   "cell_type": "code",
   "execution_count": 23,
   "metadata": {
    "collapsed": true
   },
   "outputs": [],
   "source": [
    "target = 'TripType'\n",
    "features = ['VisitNumber', 'Weekday', 'Upc', 'ScanCount',\n",
    "       'DepartmentDescription', 'FinelineNumber']\n",
    "features_raw = ['VisitNumber', 'Upc', 'ScanCount', 'FinelineNumber']"
   ]
  },
  {
   "cell_type": "code",
   "execution_count": 26,
   "metadata": {
    "collapsed": false
   },
   "outputs": [],
   "source": [
    "for i in features_raw:\n",
    "    if sum(pd.isnull(train[i])) > 0:\n",
    "        train[i] = train[i].fillna(np.mean(train[i]))"
   ]
  },
  {
   "cell_type": "code",
   "execution_count": 32,
   "metadata": {
    "collapsed": false
   },
   "outputs": [
    {
     "name": "stdout",
     "output_type": "stream",
     "text": [
      "[CV] no parameters to be set .........................................\n",
      "[CV] .............. no parameters to be set, score=-19.679493 -   9.9s\n",
      "[CV] no parameters to be set .........................................\n",
      "[CV] .............. no parameters to be set, score=-19.685479 -   9.5s\n",
      "[CV] no parameters to be set .........................................\n",
      "[CV] .............. no parameters to be set, score=-19.590008 -   9.1s\n",
      "[CV] no parameters to be set .........................................\n",
      "[CV] .............. no parameters to be set, score=-19.655886 -  10.7s"
     ]
    },
    {
     "name": "stderr",
     "output_type": "stream",
     "text": [
      "[Parallel(n_jobs=1)]: Done   1 tasks       | elapsed:   10.0s\n",
      "[Parallel(n_jobs=1)]: Done   4 tasks       | elapsed:   39.9s\n"
     ]
    },
    {
     "name": "stdout",
     "output_type": "stream",
     "text": [
      "\n",
      "[CV] no parameters to be set .........................................\n",
      "[CV] .............. no parameters to be set, score=-19.648031 -   9.7s\n",
      "[CV] no parameters to be set .........................................\n",
      "[CV] .............. no parameters to be set, score=-19.626806 -  10.5s\n",
      "[CV] no parameters to be set .........................................\n",
      "[CV] .............. no parameters to be set, score=-19.640585 -  10.8s\n",
      "[CV] no parameters to be set .........................................\n",
      "[CV] .............. no parameters to be set, score=-19.689972 -  10.7s\n",
      "[CV] no parameters to be set .........................................\n",
      "[CV] .............. no parameters to be set, score=-19.721208 -  11.5s\n",
      "[CV] no parameters to be set .........................................\n",
      "[CV] .............. no parameters to be set, score=-19.700253 -  10.3s"
     ]
    },
    {
     "name": "stderr",
     "output_type": "stream",
     "text": [
      "[Parallel(n_jobs=1)]: Done   7 tasks       | elapsed:  1.2min\n",
      "[Parallel(n_jobs=1)]: Done  10 out of  10 | elapsed:  1.7min finished\n"
     ]
    },
    {
     "name": "stdout",
     "output_type": "stream",
     "text": [
      "\n",
      "-19.6637720735\n",
      "[CV] no parameters to be set .........................................\n",
      "[CV] .............. no parameters to be set, score=-17.284536 -  10.2s\n",
      "[CV] no parameters to be set .........................................\n",
      "[CV] .............. no parameters to be set, score=-17.299224 -   9.7s\n",
      "[CV] no parameters to be set .........................................\n",
      "[CV] .............. no parameters to be set, score=-17.179927 -   9.3s\n",
      "[CV] no parameters to be set .........................................\n",
      "[CV] .............. no parameters to be set, score=-17.249147 -  10.8s"
     ]
    },
    {
     "name": "stderr",
     "output_type": "stream",
     "text": [
      "[Parallel(n_jobs=1)]: Done   1 tasks       | elapsed:   10.3s\n",
      "[Parallel(n_jobs=1)]: Done   4 tasks       | elapsed:   40.5s\n"
     ]
    },
    {
     "name": "stdout",
     "output_type": "stream",
     "text": [
      "\n",
      "[CV] no parameters to be set .........................................\n",
      "[CV] .............. no parameters to be set, score=-17.168460 -  10.5s\n",
      "[CV] no parameters to be set .........................................\n",
      "[CV] .............. no parameters to be set, score=-17.191476 -  12.1s\n",
      "[CV] no parameters to be set .........................................\n",
      "[CV] .............. no parameters to be set, score=-17.260680 -  11.2s\n",
      "[CV] no parameters to be set .........................................\n",
      "[CV] .............. no parameters to be set, score=-17.278220 -  10.6s\n",
      "[CV] no parameters to be set .........................................\n",
      "[CV] .............. no parameters to be set, score=-17.256222 -  11.2s\n",
      "[CV] no parameters to be set .........................................\n",
      "[CV] .............. no parameters to be set, score=-17.280672 -  10.7s"
     ]
    },
    {
     "name": "stderr",
     "output_type": "stream",
     "text": [
      "[Parallel(n_jobs=1)]: Done   7 tasks       | elapsed:  1.2min\n",
      "[Parallel(n_jobs=1)]: Done  10 out of  10 | elapsed:  1.8min finished\n"
     ]
    },
    {
     "name": "stdout",
     "output_type": "stream",
     "text": [
      "\n",
      "-17.2448563224\n",
      "[CV] no parameters to be set .........................................\n",
      "[CV] .............. no parameters to be set, score=-15.518492 -   9.7s\n",
      "[CV] no parameters to be set .........................................\n",
      "[CV] .............. no parameters to be set, score=-15.487699 -   9.6s\n",
      "[CV] no parameters to be set .........................................\n",
      "[CV] .............. no parameters to be set, score=-15.404411 -   9.3s\n",
      "[CV] no parameters to be set .........................................\n",
      "[CV] .............. no parameters to be set, score=-15.452431 -  11.1s"
     ]
    },
    {
     "name": "stderr",
     "output_type": "stream",
     "text": [
      "[Parallel(n_jobs=1)]: Done   1 tasks       | elapsed:    9.8s\n",
      "[Parallel(n_jobs=1)]: Done   4 tasks       | elapsed:   40.4s\n"
     ]
    },
    {
     "name": "stdout",
     "output_type": "stream",
     "text": [
      "\n",
      "[CV] no parameters to be set .........................................\n",
      "[CV] .............. no parameters to be set, score=-15.439855 -   9.8s\n",
      "[CV] no parameters to be set .........................................\n",
      "[CV] .............. no parameters to be set, score=-15.412631 -  10.8s\n",
      "[CV] no parameters to be set .........................................\n",
      "[CV] .............. no parameters to be set, score=-15.528551 -  10.6s\n",
      "[CV] no parameters to be set .........................................\n",
      "[CV] .............. no parameters to be set, score=-15.493903 -  10.7s\n",
      "[CV] no parameters to be set .........................................\n",
      "[CV] .............. no parameters to be set, score=-15.525636 -  12.3s\n",
      "[CV] no parameters to be set .........................................\n",
      "[CV] .............. no parameters to be set, score=-15.526455 -  10.6s"
     ]
    },
    {
     "name": "stderr",
     "output_type": "stream",
     "text": [
      "[Parallel(n_jobs=1)]: Done   7 tasks       | elapsed:  1.2min\n",
      "[Parallel(n_jobs=1)]: Done  10 out of  10 | elapsed:  1.8min finished\n"
     ]
    },
    {
     "name": "stdout",
     "output_type": "stream",
     "text": [
      "\n",
      "-15.4790065506\n",
      "[CV] no parameters to be set .........................................\n",
      "[CV] .............. no parameters to be set, score=-14.139096 -  10.4s\n",
      "[CV] no parameters to be set .........................................\n",
      "[CV] .............. no parameters to be set, score=-14.123948 -   9.7s\n",
      "[CV] no parameters to be set .........................................\n",
      "[CV] .............. no parameters to be set, score=-14.020272 -   9.4s\n",
      "[CV] no parameters to be set .........................................\n",
      "[CV] .............. no parameters to be set, score=-14.067615 -  11.0s"
     ]
    },
    {
     "name": "stderr",
     "output_type": "stream",
     "text": [
      "[Parallel(n_jobs=1)]: Done   1 tasks       | elapsed:   10.5s\n",
      "[Parallel(n_jobs=1)]: Done   4 tasks       | elapsed:   41.1s\n"
     ]
    },
    {
     "name": "stdout",
     "output_type": "stream",
     "text": [
      "\n",
      "[CV] no parameters to be set .........................................\n",
      "[CV] .............. no parameters to be set, score=-14.089165 -  10.0s\n",
      "[CV] no parameters to be set .........................................\n",
      "[CV] .............. no parameters to be set, score=-14.023732 -  10.9s\n",
      "[CV] no parameters to be set .........................................\n",
      "[CV] .............. no parameters to be set, score=-14.123634 -  10.6s\n",
      "[CV] no parameters to be set .........................................\n",
      "[CV] .............. no parameters to be set, score=-14.132377 -  11.1s\n",
      "[CV] no parameters to be set .........................................\n",
      "[CV] .............. no parameters to be set, score=-14.180625 -  12.5s\n",
      "[CV] no parameters to be set .........................................\n",
      "[CV] .............. no parameters to be set, score=-14.157012 -  10.0s"
     ]
    },
    {
     "name": "stderr",
     "output_type": "stream",
     "text": [
      "[Parallel(n_jobs=1)]: Done   7 tasks       | elapsed:  1.2min\n",
      "[Parallel(n_jobs=1)]: Done  10 out of  10 | elapsed:  1.8min finished\n"
     ]
    },
    {
     "name": "stdout",
     "output_type": "stream",
     "text": [
      "\n",
      "-14.1057476613\n",
      "[CV] no parameters to be set .........................................\n",
      "[CV] .............. no parameters to be set, score=-13.081277 -  10.6s\n",
      "[CV] no parameters to be set .........................................\n",
      "[CV] .............. no parameters to be set, score=-13.043672 -  10.1s\n",
      "[CV] no parameters to be set .........................................\n",
      "[CV] .............. no parameters to be set, score=-12.948753 -   9.6s\n",
      "[CV] no parameters to be set .........................................\n"
     ]
    },
    {
     "name": "stderr",
     "output_type": "stream",
     "text": [
      "[Parallel(n_jobs=1)]: Done   1 tasks       | elapsed:   10.7s\n",
      "[Parallel(n_jobs=1)]: Done   4 tasks       | elapsed:   41.9s\n"
     ]
    },
    {
     "name": "stdout",
     "output_type": "stream",
     "text": [
      "[CV] .............. no parameters to be set, score=-13.017675 -  11.1s\n",
      "[CV] no parameters to be set .........................................\n",
      "[CV] .............. no parameters to be set, score=-13.029911 -  10.2s\n",
      "[CV] no parameters to be set .........................................\n",
      "[CV] .............. no parameters to be set, score=-12.952953 -  11.4s\n",
      "[CV] no parameters to be set .........................................\n",
      "[CV] .............. no parameters to be set, score=-13.065142 -  10.7s\n",
      "[CV] no parameters to be set .........................................\n",
      "[CV] .............. no parameters to be set, score=-13.087744 -  10.9s\n",
      "[CV] no parameters to be set .........................................\n",
      "[CV] .............. no parameters to be set, score=-13.161046 -  11.1s\n",
      "[CV] no parameters to be set .........................................\n",
      "[CV] .............. no parameters to be set, score=-13.084527 -  11.7s"
     ]
    },
    {
     "name": "stderr",
     "output_type": "stream",
     "text": [
      "[Parallel(n_jobs=1)]: Done   7 tasks       | elapsed:  1.2min\n",
      "[Parallel(n_jobs=1)]: Done  10 out of  10 | elapsed:  1.8min finished\n"
     ]
    },
    {
     "name": "stdout",
     "output_type": "stream",
     "text": [
      "\n",
      "-13.0472698529\n",
      "[CV] no parameters to be set .........................................\n",
      "[CV] .............. no parameters to be set, score=-12.224715 -  10.1s\n",
      "[CV] no parameters to be set .........................................\n",
      "[CV] .............. no parameters to be set, score=-12.147034 -  10.7s\n",
      "[CV] no parameters to be set .........................................\n",
      "[CV] .............. no parameters to be set, score=-12.070437 -   9.7s\n",
      "[CV] no parameters to be set .........................................\n",
      "[CV] .............. no parameters to be set, score=-12.178239 -  11.3s"
     ]
    },
    {
     "name": "stderr",
     "output_type": "stream",
     "text": [
      "[Parallel(n_jobs=1)]: Done   1 tasks       | elapsed:   10.2s\n",
      "[Parallel(n_jobs=1)]: Done   4 tasks       | elapsed:   42.4s\n"
     ]
    },
    {
     "name": "stdout",
     "output_type": "stream",
     "text": [
      "\n",
      "[CV] no parameters to be set .........................................\n",
      "[CV] .............. no parameters to be set, score=-12.165583 -  13.2s\n",
      "[CV] no parameters to be set .........................................\n",
      "[CV] .............. no parameters to be set, score=-12.069041 -  13.0s\n",
      "[CV] no parameters to be set .........................................\n",
      "[CV] .............. no parameters to be set, score=-12.170305 -  10.1s\n",
      "[CV] no parameters to be set .........................................\n",
      "[CV] .............. no parameters to be set, score=-12.215775 -  10.4s\n",
      "[CV] no parameters to be set .........................................\n",
      "[CV] .............. no parameters to be set, score=-12.274742 -  13.0s\n",
      "[CV] no parameters to be set .........................................\n",
      "[CV] .............. no parameters to be set, score=-12.220714 -  13.2s"
     ]
    },
    {
     "name": "stderr",
     "output_type": "stream",
     "text": [
      "[Parallel(n_jobs=1)]: Done   7 tasks       | elapsed:  1.3min\n",
      "[Parallel(n_jobs=1)]: Done  10 out of  10 | elapsed:  1.9min finished\n"
     ]
    },
    {
     "name": "stdout",
     "output_type": "stream",
     "text": [
      "\n",
      "-12.1736585326\n",
      "[CV] no parameters to be set .........................................\n",
      "[CV] .............. no parameters to be set, score=-11.518434 -  13.6s\n",
      "[CV] no parameters to be set .........................................\n",
      "[CV] .............. no parameters to be set, score=-11.423980 -  14.0s\n",
      "[CV] no parameters to be set .........................................\n",
      "[CV] .............. no parameters to be set, score=-11.376449 -   9.6s\n",
      "[CV] no parameters to be set .........................................\n",
      "[CV] .............. no parameters to be set, score=-11.489832 -  13.0s"
     ]
    },
    {
     "name": "stderr",
     "output_type": "stream",
     "text": [
      "[Parallel(n_jobs=1)]: Done   1 tasks       | elapsed:   13.6s\n",
      "[Parallel(n_jobs=1)]: Done   4 tasks       | elapsed:   50.6s\n"
     ]
    },
    {
     "name": "stdout",
     "output_type": "stream",
     "text": [
      "\n",
      "[CV] no parameters to be set .........................................\n",
      "[CV] .............. no parameters to be set, score=-11.451302 -  13.4s\n",
      "[CV] no parameters to be set .........................................\n",
      "[CV] .............. no parameters to be set, score=-11.353665 -  14.0s\n",
      "[CV] no parameters to be set .........................................\n",
      "[CV] .............. no parameters to be set, score=-11.430282 -  12.6s\n",
      "[CV] no parameters to be set .........................................\n",
      "[CV] .............. no parameters to be set, score=-11.503929 -  14.1s\n",
      "[CV] no parameters to be set .........................................\n",
      "[CV] .............. no parameters to be set, score=-11.567814 -  14.6s\n",
      "[CV] no parameters to be set .........................................\n",
      "[CV] .............. no parameters to be set, score=-11.499619 -  13.3s"
     ]
    },
    {
     "name": "stderr",
     "output_type": "stream",
     "text": [
      "[Parallel(n_jobs=1)]: Done   7 tasks       | elapsed:  1.5min\n",
      "[Parallel(n_jobs=1)]: Done  10 out of  10 | elapsed:  2.2min finished\n"
     ]
    },
    {
     "name": "stdout",
     "output_type": "stream",
     "text": [
      "\n",
      "-11.4615305352\n",
      "[CV] no parameters to be set .........................................\n",
      "[CV] .............. no parameters to be set, score=-10.913620 -   9.0s\n",
      "[CV] no parameters to be set .........................................\n",
      "[CV] .............. no parameters to be set, score=-10.815810 -  12.9s\n",
      "[CV] no parameters to be set .........................................\n",
      "[CV] .............. no parameters to be set, score=-10.759621 -  11.9s\n",
      "[CV] no parameters to be set .........................................\n",
      "[CV] .............. no parameters to be set, score=-10.898983 -  12.7s"
     ]
    },
    {
     "name": "stderr",
     "output_type": "stream",
     "text": [
      "[Parallel(n_jobs=1)]: Done   1 tasks       | elapsed:    9.0s\n",
      "[Parallel(n_jobs=1)]: Done   4 tasks       | elapsed:   47.0s\n"
     ]
    },
    {
     "name": "stdout",
     "output_type": "stream",
     "text": [
      "\n",
      "[CV] no parameters to be set .........................................\n",
      "[CV] .............. no parameters to be set, score=-10.869962 -  12.2s\n",
      "[CV] no parameters to be set .........................................\n",
      "[CV] .............. no parameters to be set, score=-10.771385 -  13.3s\n",
      "[CV] no parameters to be set .........................................\n",
      "[CV] .............. no parameters to be set, score=-10.806685 -  12.7s\n",
      "[CV] no parameters to be set .........................................\n",
      "[CV] .............. no parameters to be set, score=-10.922210 -  12.4s\n",
      "[CV] no parameters to be set .........................................\n",
      "[CV] .............. no parameters to be set, score=-10.954197 -  13.0s\n",
      "[CV] no parameters to be set .........................................\n",
      "[CV] .............. no parameters to be set, score=-10.903958 -  12.5s"
     ]
    },
    {
     "name": "stderr",
     "output_type": "stream",
     "text": [
      "[Parallel(n_jobs=1)]: Done   7 tasks       | elapsed:  1.4min\n",
      "[Parallel(n_jobs=1)]: Done  10 out of  10 | elapsed:  2.1min finished\n"
     ]
    },
    {
     "name": "stdout",
     "output_type": "stream",
     "text": [
      "\n",
      "-10.8616430558\n",
      "[CV] no parameters to be set .........................................\n",
      "[CV] .............. no parameters to be set, score=-10.414034 -  11.5s\n",
      "[CV] no parameters to be set .........................................\n",
      "[CV] .............. no parameters to be set, score=-10.323753 -  12.1s\n",
      "[CV] no parameters to be set .........................................\n",
      "[CV] .............. no parameters to be set, score=-10.213013 -  12.3s\n",
      "[CV] no parameters to be set .........................................\n",
      "[CV] .............. no parameters to be set, score=-10.378059 -  12.6s"
     ]
    },
    {
     "name": "stderr",
     "output_type": "stream",
     "text": [
      "[Parallel(n_jobs=1)]: Done   1 tasks       | elapsed:   11.6s\n",
      "[Parallel(n_jobs=1)]: Done   4 tasks       | elapsed:   49.0s\n"
     ]
    },
    {
     "name": "stdout",
     "output_type": "stream",
     "text": [
      "\n",
      "[CV] no parameters to be set .........................................\n",
      "[CV] .............. no parameters to be set, score=-10.388939 -51.9min\n",
      "[CV] no parameters to be set .........................................\n",
      "[CV] .............. no parameters to be set, score=-10.293692 -   7.3s\n",
      "[CV] no parameters to be set .........................................\n",
      "[CV] .............. no parameters to be set, score=-10.298436 -   7.3s\n",
      "[CV] no parameters to be set .........................................\n",
      "[CV] .............. no parameters to be set, score=-10.397795 -   4.4s\n",
      "[CV] no parameters to be set .........................................\n",
      "[CV] .............. no parameters to be set, score=-10.422401 -   4.1s\n",
      "[CV] no parameters to be set .........................................\n",
      "[CV] .............. no parameters to be set, score=-10.419146 -   3.8s"
     ]
    },
    {
     "name": "stderr",
     "output_type": "stream",
     "text": [
      "[Parallel(n_jobs=1)]: Done   7 tasks       | elapsed: 53.0min\n",
      "[Parallel(n_jobs=1)]: Done  10 out of  10 | elapsed: 53.2min finished\n"
     ]
    },
    {
     "name": "stdout",
     "output_type": "stream",
     "text": [
      "\n",
      "-10.3549266742\n"
     ]
    }
   ],
   "source": [
    "for i in range(2,11):\n",
    "    model = KNN(n_neighbors = i,n_jobs=-1)\n",
    "    score = cv.cross_val_score(model,train.loc[:,features_raw],train.loc[:,target], cv = cv_10, verbose=10,scoring='log_loss')\n",
    "    print(np.mean(score))"
   ]
  },
  {
   "cell_type": "markdown",
   "metadata": {},
   "source": [
    "### 4. Linear models "
   ]
  },
  {
   "cell_type": "markdown",
   "metadata": {},
   "source": [
    "— Try logistic regression and linear SVM on your features. Report accuracy and log loss. Compare it to KNN-classifier. How does performance differ whether you use data scaling or not? How does performance differ if you use on-hot or label encoded categorical features?\n",
    "\n",
    "— Regularization. Play with l1 and l2 regularization parameters. Plot log loss score depending on different C values for l1 and l2 regularizations. What regualarization do you choose with which parameter? Why? \n",
    "\n",
    "— Show normalized confusion matrix for the best obtained model performance on the evaluation set. How does it differ from cross-validation score?"
   ]
  },
  {
   "cell_type": "markdown",
   "metadata": {},
   "source": [
    "### 5. Tree-based models"
   ]
  },
  {
   "cell_type": "markdown",
   "metadata": {},
   "source": [
    "— Try vanilla Random Forest, AdaBoost, GBDT from sklearn and GBDT from xgboost. Report cross-validation log loss (mean and std) for each of these models.\n",
    "\n",
    "— Random Forest. Find best parameters for the Random Forest using grid search on cross-validation. Which of them are the most important? Report result on evaluation test. \n",
    "\n",
    "— Adaboost. Find the best values of parameters for the AdaBoost using grid search on cross-validation. Which of them are the most important? Plot learning curve (log loss on each conscutive iteration) for the best AdaBoost on new_train and evaluation sets. Note: staged_predict_proba method can be very useful. \n",
    "\n",
    "— GBDT. Compare speed and performance of sklearn/xgboost GBDT implementation with similar parameters. Which implementation do your choose? Do not forget to utilise all of your CPUs/threads to speed up calculations. Find best parameters for the GBDT using grid search on cross-validation. What are the most important? Plot learning curve (log loss on each consecutive iteration) for the best GBDT on new_train and evaluation sets. Note: staged_predict_proba method can be very useful for sklearn and evals_result method for xgboost.\n"
   ]
  },
  {
   "cell_type": "markdown",
   "metadata": {},
   "source": [
    "### 6. Model comaprison and combination"
   ]
  },
  {
   "cell_type": "markdown",
   "metadata": {},
   "source": [
    "— Compare performance of all used models in terms of accuracy and log loss on evaluation. What is the best single model performance?\n",
    "\n",
    "— (optional) Try to imporve your single model performnace with weighted combination of other models predictions. Note: sklearn VotingClassifier with 'softmax' option can be useful. What is the best model performance on evaluation?"
   ]
  }
 ],
 "metadata": {
  "kernelspec": {
   "display_name": "Python 3",
   "language": "python",
   "name": "python3"
  },
  "language_info": {
   "codemirror_mode": {
    "name": "ipython",
    "version": 3
   },
   "file_extension": ".py",
   "mimetype": "text/x-python",
   "name": "python",
   "nbconvert_exporter": "python",
   "pygments_lexer": "ipython3",
   "version": "3.5.1"
  }
 },
 "nbformat": 4,
 "nbformat_minor": 0
}
